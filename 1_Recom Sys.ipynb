{
 "cells": [
  {
   "cell_type": "code",
   "execution_count": 3,
   "id": "0faa73b2-caba-4a3c-849b-f1085e4204e2",
   "metadata": {},
   "outputs": [
    {
     "name": "stdout",
     "output_type": "stream",
     "text": [
      "H:\\Conda\\envs\\pytorch-env\\python.exe\n",
      "2.2.2+cu121\n"
     ]
    }
   ],
   "source": [
    "import sys\n",
    "print(sys.executable)\n",
    "\n",
    "import torch\n",
    "print(torch.__version__)"
   ]
  },
  {
   "cell_type": "code",
   "execution_count": 4,
   "id": "739c85ca-ba2a-497f-9988-1c5e7811cc77",
   "metadata": {},
   "outputs": [
    {
     "name": "stdout",
     "output_type": "stream",
     "text": [
      "CUDA is available. Here are the GPU details:\n",
      "NVIDIA GeForce RTX 3080\n"
     ]
    }
   ],
   "source": [
    "import torch\n",
    "\n",
    "if torch.cuda.is_available():\n",
    "    print(\"CUDA is available. Here are the GPU details:\")\n",
    "    print(torch.cuda.get_device_name(0))\n",
    "else:\n",
    "    print(\"CUDA is not available.\")"
   ]
  },
  {
   "cell_type": "code",
   "execution_count": 5,
   "id": "9d8f2881-d83d-449f-a236-caee25d8fae5",
   "metadata": {},
   "outputs": [],
   "source": [
    "import numpy as np\n",
    "import pandas as pd"
   ]
  },
  {
   "cell_type": "code",
   "execution_count": 6,
   "id": "6f656a1f-38b6-4bec-b821-b05fdddf346a",
   "metadata": {},
   "outputs": [
    {
     "data": {
      "text/html": [
       "<div>\n",
       "<style scoped>\n",
       "    .dataframe tbody tr th:only-of-type {\n",
       "        vertical-align: middle;\n",
       "    }\n",
       "\n",
       "    .dataframe tbody tr th {\n",
       "        vertical-align: top;\n",
       "    }\n",
       "\n",
       "    .dataframe thead th {\n",
       "        text-align: right;\n",
       "    }\n",
       "</style>\n",
       "<table border=\"1\" class=\"dataframe\">\n",
       "  <thead>\n",
       "    <tr style=\"text-align: right;\">\n",
       "      <th></th>\n",
       "      <th>user_id</th>\n",
       "      <th>Username</th>\n",
       "      <th>anime_id</th>\n",
       "      <th>Anime Title</th>\n",
       "      <th>rating</th>\n",
       "    </tr>\n",
       "  </thead>\n",
       "  <tbody>\n",
       "    <tr>\n",
       "      <th>0</th>\n",
       "      <td>1</td>\n",
       "      <td>Xinil</td>\n",
       "      <td>21</td>\n",
       "      <td>One Piece</td>\n",
       "      <td>9</td>\n",
       "    </tr>\n",
       "    <tr>\n",
       "      <th>1</th>\n",
       "      <td>1</td>\n",
       "      <td>Xinil</td>\n",
       "      <td>48</td>\n",
       "      <td>.hack//Sign</td>\n",
       "      <td>7</td>\n",
       "    </tr>\n",
       "    <tr>\n",
       "      <th>2</th>\n",
       "      <td>1</td>\n",
       "      <td>Xinil</td>\n",
       "      <td>320</td>\n",
       "      <td>A Kite</td>\n",
       "      <td>5</td>\n",
       "    </tr>\n",
       "    <tr>\n",
       "      <th>3</th>\n",
       "      <td>1</td>\n",
       "      <td>Xinil</td>\n",
       "      <td>49</td>\n",
       "      <td>Aa! Megami-sama!</td>\n",
       "      <td>8</td>\n",
       "    </tr>\n",
       "    <tr>\n",
       "      <th>4</th>\n",
       "      <td>1</td>\n",
       "      <td>Xinil</td>\n",
       "      <td>304</td>\n",
       "      <td>Aa! Megami-sama! Movie</td>\n",
       "      <td>8</td>\n",
       "    </tr>\n",
       "  </tbody>\n",
       "</table>\n",
       "</div>"
      ],
      "text/plain": [
       "   user_id Username  anime_id             Anime Title  rating\n",
       "0        1    Xinil        21               One Piece       9\n",
       "1        1    Xinil        48             .hack//Sign       7\n",
       "2        1    Xinil       320                  A Kite       5\n",
       "3        1    Xinil        49        Aa! Megami-sama!       8\n",
       "4        1    Xinil       304  Aa! Megami-sama! Movie       8"
      ]
     },
     "execution_count": 6,
     "metadata": {},
     "output_type": "execute_result"
    }
   ],
   "source": [
    "df_user_score=pd.read_csv('./users-score-2023.csv')\n",
    "df_user_score.head()"
   ]
  },
  {
   "cell_type": "code",
   "execution_count": 7,
   "id": "23dda0f7-7e22-48b3-aa6f-e254bee4e129",
   "metadata": {},
   "outputs": [],
   "source": [
    "import torch\n",
    "import torch.nn as nn\n",
    "import torch.optim as optim\n",
    "from sklearn.preprocessing import LabelEncoder\n",
    "from sklearn.model_selection import train_test_split\n",
    "from sklearn.preprocessing import MinMaxScaler\n",
    "from sklearn.utils import shuffle"
   ]
  },
  {
   "cell_type": "code",
   "execution_count": 8,
   "id": "084a4496-0e29-4c4e-a9e6-bc9dac7f7f5e",
   "metadata": {},
   "outputs": [
    {
     "data": {
      "text/html": [
       "<div>\n",
       "<style scoped>\n",
       "    .dataframe tbody tr th:only-of-type {\n",
       "        vertical-align: middle;\n",
       "    }\n",
       "\n",
       "    .dataframe tbody tr th {\n",
       "        vertical-align: top;\n",
       "    }\n",
       "\n",
       "    .dataframe thead th {\n",
       "        text-align: right;\n",
       "    }\n",
       "</style>\n",
       "<table border=\"1\" class=\"dataframe\">\n",
       "  <thead>\n",
       "    <tr style=\"text-align: right;\">\n",
       "      <th></th>\n",
       "      <th>user_id</th>\n",
       "      <th>Username</th>\n",
       "      <th>anime_id</th>\n",
       "      <th>Anime Title</th>\n",
       "      <th>rating</th>\n",
       "      <th>scaled_score</th>\n",
       "      <th>anime_id_encoded</th>\n",
       "      <th>user_id_encoded</th>\n",
       "    </tr>\n",
       "  </thead>\n",
       "  <tbody>\n",
       "    <tr>\n",
       "      <th>686198</th>\n",
       "      <td>8160</td>\n",
       "      <td>dianakitsune</td>\n",
       "      <td>65</td>\n",
       "      <td>Rozen Maiden: Träumend</td>\n",
       "      <td>9</td>\n",
       "      <td>0.888889</td>\n",
       "      <td>46</td>\n",
       "      <td>5251</td>\n",
       "    </tr>\n",
       "    <tr>\n",
       "      <th>17015808</th>\n",
       "      <td>496175</td>\n",
       "      <td>AB_PB</td>\n",
       "      <td>3655</td>\n",
       "      <td>Nabari no Ou</td>\n",
       "      <td>9</td>\n",
       "      <td>0.888889</td>\n",
       "      <td>3186</td>\n",
       "      <td>187528</td>\n",
       "    </tr>\n",
       "    <tr>\n",
       "      <th>6376853</th>\n",
       "      <td>102759</td>\n",
       "      <td>the_shade</td>\n",
       "      <td>27631</td>\n",
       "      <td>God Eater</td>\n",
       "      <td>7</td>\n",
       "      <td>0.666667</td>\n",
       "      <td>8879</td>\n",
       "      <td>63569</td>\n",
       "    </tr>\n",
       "    <tr>\n",
       "      <th>2707547</th>\n",
       "      <td>36746</td>\n",
       "      <td>Arata84</td>\n",
       "      <td>22297</td>\n",
       "      <td>Fate/stay night: Unlimited Blade Works</td>\n",
       "      <td>8</td>\n",
       "      <td>0.777778</td>\n",
       "      <td>8215</td>\n",
       "      <td>24296</td>\n",
       "    </tr>\n",
       "    <tr>\n",
       "      <th>3203122</th>\n",
       "      <td>44347</td>\n",
       "      <td>roybarboza96</td>\n",
       "      <td>4720</td>\n",
       "      <td>White Album</td>\n",
       "      <td>9</td>\n",
       "      <td>0.888889</td>\n",
       "      <td>3775</td>\n",
       "      <td>29106</td>\n",
       "    </tr>\n",
       "  </tbody>\n",
       "</table>\n",
       "</div>"
      ],
      "text/plain": [
       "          user_id      Username  anime_id  \\\n",
       "686198       8160  dianakitsune        65   \n",
       "17015808   496175         AB_PB      3655   \n",
       "6376853    102759     the_shade     27631   \n",
       "2707547     36746       Arata84     22297   \n",
       "3203122     44347  roybarboza96      4720   \n",
       "\n",
       "                                     Anime Title  rating  scaled_score  \\\n",
       "686198                    Rozen Maiden: Träumend       9      0.888889   \n",
       "17015808                            Nabari no Ou       9      0.888889   \n",
       "6376853                                God Eater       7      0.666667   \n",
       "2707547   Fate/stay night: Unlimited Blade Works       8      0.777778   \n",
       "3203122                              White Album       9      0.888889   \n",
       "\n",
       "          anime_id_encoded  user_id_encoded  \n",
       "686198                  46             5251  \n",
       "17015808              3186           187528  \n",
       "6376853               8879            63569  \n",
       "2707547               8215            24296  \n",
       "3203122               3775            29106  "
      ]
     },
     "execution_count": 8,
     "metadata": {},
     "output_type": "execute_result"
    }
   ],
   "source": [
    "# shuffle the data since was ordered by the user id\n",
    "df_user_score = shuffle(df_user_score, random_state=66)\n",
    "# do the encoding\n",
    "# Create a MinMaxScaler object\n",
    "scaler = MinMaxScaler(feature_range=(0, 1))\n",
    "# Scale the 'score' column between 0 and 1\n",
    "df_user_score['scaled_score'] = scaler.fit_transform(df_user_score[['rating']])\n",
    "user_encoder = LabelEncoder()\n",
    "anime_encoder = LabelEncoder()\n",
    "df_user_score['anime_id_encoded'] = anime_encoder.fit_transform(df_user_score['anime_id'])\n",
    "df_user_score['user_id_encoded'] = user_encoder.fit_transform(df_user_score['user_id'])\n",
    "df_user_score.head()"
   ]
  },
  {
   "cell_type": "code",
   "execution_count": 9,
   "id": "4eb9b246-5e00-4d12-9b95-489a983b89c0",
   "metadata": {},
   "outputs": [
    {
     "name": "stdout",
     "output_type": "stream",
     "text": [
      "Shape of X: (24325191, 2)\n",
      "Shape of y: (24325191,)\n"
     ]
    }
   ],
   "source": [
    "# X is the features used for prediction\n",
    "# y is the target\n",
    "X = df_user_score[['user_id_encoded','anime_id_encoded']].values\n",
    "y = df_user_score['scaled_score'].values\n",
    "print(\"Shape of X:\", X.shape)\n",
    "print(\"Shape of y:\", y.shape)"
   ]
  },
  {
   "cell_type": "code",
   "execution_count": 13,
   "id": "feed9d1a-1b44-4203-955b-cace5d0a0cf5",
   "metadata": {},
   "outputs": [
    {
     "name": "stdout",
     "output_type": "stream",
     "text": [
      "Number of samples in the training set: 19460152\n",
      "Number of samples in the test set: 4865039\n"
     ]
    }
   ],
   "source": [
    "# split training data and validation data\n",
    "X_train, X_test, y_train, y_test = train_test_split(X, y, test_size=0.2)\n",
    "\n",
    "X_train = X_train.astype('int32')\n",
    "X_test = X_test.astype('int32')\n",
    "print(\"Number of samples in the training set:\", len(y_train))\n",
    "print(\"Number of samples in the test set:\", len(y_test))"
   ]
  },
  {
   "cell_type": "code",
   "execution_count": 92,
   "id": "bd575e04-feab-4a1b-a52c-5d80730c56a0",
   "metadata": {},
   "outputs": [],
   "source": [
    "# Define the model architecture\n",
    "class CollaborativeFilteringModel(nn.Module):\n",
    "    def __init__(self, num_users, num_animes, embedding_size):\n",
    "        super(CollaborativeFilteringModel, self).__init__()\n",
    "        self.user_embedding = nn.Embedding(num_users, embedding_size)\n",
    "        self.anime_embedding = nn.Embedding(num_animes, embedding_size)\n",
    "        self.dense = nn.Linear(1, 1)  # Modify the input size to 1\n",
    "        self.sigmoid = nn.Sigmoid()\n",
    "\n",
    "    def forward(self, user_input, anime_input):\n",
    "        user_embedded = self.user_embedding(user_input)\n",
    "        anime_embedded = self.anime_embedding(anime_input)\n",
    "        dot_product = torch.mul(user_embedded, anime_embedded).sum(dim=-1)\n",
    "        dot_product = dot_product.unsqueeze(1)  # Add an extra dimension\n",
    "        dense_output = self.dense(dot_product)\n",
    "        output = self.sigmoid(dense_output)\n",
    "        return output"
   ]
  },
  {
   "cell_type": "code",
   "execution_count": 95,
   "id": "8f1d6d66-3c5a-4e68-8f57-1e5daf21113a",
   "metadata": {},
   "outputs": [
    {
     "name": "stdout",
     "output_type": "stream",
     "text": [
      "cuda\n"
     ]
    }
   ],
   "source": [
    "num_users = df_user_score['user_id_encoded'].max() + 1\n",
    "num_animes = df_user_score['anime_id_encoded'].max() + 1\n",
    "embedding_size = 128\n",
    "\n",
    "# Check if GPU is available\n",
    "device = torch.device('cuda' if torch.cuda.is_available() else 'cpu')\n",
    "print(device)\n",
    "\n",
    "# Create an instance of the model\n",
    "model = CollaborativeFilteringModel(num_users, num_animes, embedding_size).to(device)"
   ]
  },
  {
   "cell_type": "code",
   "execution_count": 96,
   "id": "00f6573e-34ad-4891-8115-4093cd2a430b",
   "metadata": {},
   "outputs": [],
   "source": [
    "# Define the loss function and optimizer\n",
    "criterion = nn.BCELoss()\n",
    "optimizer = optim.Adam(model.parameters())"
   ]
  },
  {
   "cell_type": "code",
   "execution_count": 98,
   "id": "40d8dfd5-9950-4782-90cd-f9484840ecd4",
   "metadata": {},
   "outputs": [
    {
     "name": "stdout",
     "output_type": "stream",
     "text": [
      "Epoch [1/20], Loss: 0.5984\n",
      "Epoch [2/20], Loss: 0.5822\n",
      "Epoch [3/20], Loss: 0.5825\n",
      "Epoch [4/20], Loss: 0.5812\n",
      "Epoch [5/20], Loss: 0.5792\n",
      "Epoch [6/20], Loss: 0.5754\n",
      "Epoch [7/20], Loss: 0.5706\n",
      "Epoch [8/20], Loss: 0.5622\n",
      "Epoch [9/20], Loss: 0.5575\n",
      "Epoch [10/20], Loss: 0.5668\n",
      "Epoch [11/20], Loss: 0.5955\n",
      "Epoch [12/20], Loss: 0.6279\n",
      "Epoch [13/20], Loss: 0.6433\n",
      "Epoch [14/20], Loss: 0.6433\n",
      "Epoch [15/20], Loss: 0.6338\n",
      "Epoch [16/20], Loss: 0.6197\n",
      "Epoch [17/20], Loss: 0.6034\n",
      "Epoch [18/20], Loss: 0.5858\n",
      "Epoch [19/20], Loss: 0.5673\n",
      "Epoch [20/20], Loss: 0.5482\n",
      "Test Loss: 0.5896\n"
     ]
    }
   ],
   "source": [
    "# Training loop\n",
    "num_epochs = 20\n",
    "batch_size = 10000\n",
    "\n",
    "for epoch in range(num_epochs):\n",
    "    for i in range(0, len(X_train), batch_size):\n",
    "        batch_users = torch.LongTensor(X_train[i:i+batch_size, 0]).to(device)\n",
    "        batch_animes = torch.LongTensor(X_train[i:i+batch_size, 1]).to(device)\n",
    "        batch_ratings = torch.FloatTensor(y_train[i:i+batch_size]).to(device)\n",
    "\n",
    "        # Forward pass\n",
    "        outputs = model(batch_users, batch_animes)\n",
    "        loss = criterion(outputs.squeeze(), batch_ratings)\n",
    "\n",
    "        # Backward pass and optimization\n",
    "        optimizer.zero_grad()\n",
    "        loss.backward()\n",
    "        optimizer.step()\n",
    "\n",
    "    # Print the loss for every epoch\n",
    "    print(f\"Epoch [{epoch+1}/{num_epochs}], Loss: {loss.item():.4f}\")\n",
    "\n",
    "# Evaluate the model on the test set\n",
    "with torch.no_grad():\n",
    "    test_users = torch.LongTensor(X_test[:, 0]).to(device)\n",
    "    test_animes = torch.LongTensor(X_test[:, 1]).to(device)\n",
    "    test_ratings = torch.FloatTensor(y_test).to(device)\n",
    "\n",
    "    test_outputs = model(test_users, test_animes)\n",
    "    test_loss = criterion(test_outputs.squeeze(), test_ratings)\n",
    "\n",
    "print(f\"Test Loss: {test_loss.item():.4f}\")"
   ]
  },
  {
   "cell_type": "code",
   "execution_count": 99,
   "id": "de85e98a-f4e7-4240-b9e7-e3a512cb1b49",
   "metadata": {},
   "outputs": [],
   "source": [
    "torch.save(model.state_dict(), 'model_weights.pth')"
   ]
  },
  {
   "cell_type": "code",
   "execution_count": null,
   "id": "e1fa76e1-c0d5-49d8-b0fd-888894002ebb",
   "metadata": {},
   "outputs": [],
   "source": []
  }
 ],
 "metadata": {
  "kernelspec": {
   "display_name": "Python 3 (ipykernel)",
   "language": "python",
   "name": "python3"
  },
  "language_info": {
   "codemirror_mode": {
    "name": "ipython",
    "version": 3
   },
   "file_extension": ".py",
   "mimetype": "text/x-python",
   "name": "python",
   "nbconvert_exporter": "python",
   "pygments_lexer": "ipython3",
   "version": "3.9.19"
  }
 },
 "nbformat": 4,
 "nbformat_minor": 5
}
